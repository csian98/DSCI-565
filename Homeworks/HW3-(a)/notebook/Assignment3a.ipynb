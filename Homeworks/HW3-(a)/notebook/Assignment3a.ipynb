{
 "cells": [
  {
   "cell_type": "markdown",
   "id": "bfe3deff-4548-49fd-b34f-797226fe3239",
   "metadata": {},
   "source": [
    "# Assignment 3a: Automatic Differentiation with Tensors\n",
    "\n",
    "The purpose of this assignment is to help you understand automatic differentiation with Tensors. \n",
    "\n",
    "For the first part of the assigment you will define a two-layer neural network following the equations in Section 5.3.1 of the textbook Zhang et al.\n",
    "\n",
    "For the second part of the assignment you will use PyTorch to verify the backpropagation equations in Section 5.3.2."
   ]
  },
  {
   "cell_type": "code",
   "execution_count": 1,
   "id": "f334fab4-6e4c-4edb-890c-5e3d44d271f8",
   "metadata": {},
   "outputs": [],
   "source": [
    "import torch\n",
    "from torch import nn\n",
    "from torch.nn import functional as F\n",
    "import numpy as np\n",
    "from d2l import torch as d2l"
   ]
  },
  {
   "cell_type": "markdown",
   "id": "024a36bc-2d5d-4834-aaa3-042e463e07dd",
   "metadata": {},
   "source": [
    "Weight decay uisng L2 Norm"
   ]
  },
  {
   "cell_type": "code",
   "execution_count": 2,
   "id": "7f7cd456-4d4e-4154-bee1-489cc98425d1",
   "metadata": {},
   "outputs": [],
   "source": [
    "def l2_penalty(w):\n",
    "    return (w ** 2).sum() / 2"
   ]
  },
  {
   "cell_type": "markdown",
   "id": "220178d8-fa97-479c-9c60-a441413520e6",
   "metadata": {},
   "source": [
    "Model Parameters"
   ]
  },
  {
   "cell_type": "code",
   "execution_count": 3,
   "id": "bc1570e5-aaed-445b-b5c0-9683674eb990",
   "metadata": {},
   "outputs": [],
   "source": [
    "num_inputs = 4\n",
    "num_hiddens = 3\n",
    "num_outputs = 2"
   ]
  },
  {
   "cell_type": "markdown",
   "id": "a952fb91-99f7-45fa-badf-407b127861a8",
   "metadata": {},
   "source": [
    "Minibatch data"
   ]
  },
  {
   "cell_type": "code",
   "execution_count": 4,
   "id": "89e039bc-7f24-4157-869b-e3015c7509f0",
   "metadata": {},
   "outputs": [],
   "source": [
    "num_batch_size = 5\n",
    "\n",
    "torch.manual_seed(0)\n",
    "X = torch.randn(num_batch_size, num_inputs)\n",
    "y = torch.randint(num_outputs, [num_batch_size])"
   ]
  },
  {
   "cell_type": "markdown",
   "id": "06da5a4f-548b-462b-a52a-0f23daf3b12b",
   "metadata": {},
   "source": [
    "##  Define simple two-level network (TODO)\n",
    "\n",
    "Follow the equations in Section 5.3.1, and define a simple two-level network with cross entropy loss and weight decay.\n",
    "\n",
    "* Use `torch.randn()` to create two weight matrices.\n",
    "* Use `torch.relu()` as the activation function"
   ]
  },
  {
   "cell_type": "code",
   "execution_count": 5,
   "id": "53ae13cc-f5f3-4ced-bb25-2f849d622464",
   "metadata": {},
   "outputs": [],
   "source": [
    "class SimpleClassifier:\n",
    "    def __init__(self, num_inputs, num_hiddens, num_outputs, lambda1=0.1):\n",
    "        self.num_inputs = num_inputs\n",
    "        self.num_hiddens = num_hiddens\n",
    "        self.num_outputs = num_outputs\n",
    "        self.lambda1 = lambda1\n",
    "\n",
    "        # Create and intialize the weight matrices using random normals, torch.randn().\n",
    "        torch.manual_seed(0)\n",
    "        # Begin - insert your code\n",
    "        sigma = 1.0\n",
    "        \n",
    "        self.W1 = nn.Parameter(torch.randn(num_inputs, num_hiddens) * sigma)\n",
    "        self.b1 = nn.Parameter(torch.zeros(num_hiddens))\n",
    "        self.W2 = nn.Parameter(torch.randn(num_hiddens, num_outputs) * sigma)\n",
    "        self.b2 = nn.Parameter(torch.zeros(num_outputs))\n",
    "\n",
    "        self.cross_entropy = nn.CrossEntropyLoss()\n",
    "        # End - insert your code\n",
    "        \n",
    "\n",
    "    def forward(self, X):\n",
    "\n",
    "        # Follow the equations in section 5.3.1 to define the forward pass. Use torch.relu() as the activation function\n",
    "        # Begin - insert your code\n",
    "        batch_size = X.shape[0]\n",
    "        X = X.reshape((-1, self.num_inputs))\n",
    "        \n",
    "        self.z = torch.matmul(X, self.W1) + self.b1\n",
    "        self.h = torch.relu(self.z)\n",
    "        self.o = torch.matmul(self.h, self.W2) + self.b2\n",
    "\n",
    "        assert self.z.shape == (batch_size, self.num_hiddens)\n",
    "        assert self.h.shape == (batch_size, self.num_hiddens)\n",
    "        assert self.o.shape == (batch_size, self.num_outputs)\n",
    "        # End - insert your code\n",
    "\n",
    "        # Save intermediate gradient computations\n",
    "        self.z.retain_grad()\n",
    "        self.h.retain_grad()\n",
    "        self.o.retain_grad()\n",
    "\n",
    "        return self.o\n",
    "        \n",
    "    def loss(self, y):\n",
    "\n",
    "        # Follow the equations in section 5.3.1 to define the cross entropy loss with l2 weight decay.\n",
    "        # Use the provided l2_penalty function.\n",
    "        # Begin - insert your code\n",
    "        self.L = self.cross_entropy(self.o, y)\n",
    "        self.s = self.lambda1 * (l2_penalty(self.W1) + l2_penalty(self.W2))\n",
    "        self.J = self.L + self.s\n",
    "        # End - insert your code\n",
    "\n",
    "        # Save intermediate gradient computations\n",
    "        self.L.retain_grad()\n",
    "        self.s.retain_grad()\n",
    "\n",
    "        return self.J"
   ]
  },
  {
   "cell_type": "markdown",
   "id": "92f28a8d-3c55-4df9-ab7b-7bef4c11a766",
   "metadata": {},
   "source": [
    "## Create an instance"
   ]
  },
  {
   "cell_type": "markdown",
   "id": "e9851aa3-3118-4518-a733-4a5bc0f34ae0",
   "metadata": {},
   "source": [
    "Create instance and do forward pass and calculate loss"
   ]
  },
  {
   "cell_type": "code",
   "execution_count": 6,
   "id": "758128e0-4ab0-4222-92b6-1968578326ec",
   "metadata": {},
   "outputs": [
    {
     "data": {
      "text/plain": [
       "tensor([[-4.1042,  1.7542],\n",
       "        [-0.9505,  0.5568],\n",
       "        [-2.1101,  1.3511],\n",
       "        [-3.2251,  4.1435],\n",
       "        [-2.5274,  3.2354]], grad_fn=<AddBackward0>)"
      ]
     },
     "execution_count": 6,
     "metadata": {},
     "output_type": "execute_result"
    }
   ],
   "source": [
    "dJ =  SimpleClassifier(num_inputs, num_hiddens, num_outputs)\n",
    "dJ.forward(X)"
   ]
  },
  {
   "cell_type": "code",
   "execution_count": 7,
   "id": "db2e40ed-7535-4ce9-b8d5-22b252fef004",
   "metadata": {},
   "outputs": [
    {
     "data": {
      "text/plain": [
       "tensor(4.6537, grad_fn=<AddBackward0>)"
      ]
     },
     "execution_count": 7,
     "metadata": {},
     "output_type": "execute_result"
    }
   ],
   "source": [
    "dJ.loss(y)"
   ]
  },
  {
   "cell_type": "markdown",
   "id": "821fe753-fcf9-4a11-a83c-2e1ad9af7618",
   "metadata": {},
   "source": [
    "Do backward propagation starting from variable J"
   ]
  },
  {
   "cell_type": "markdown",
   "id": "f39908f3-10a2-48bd-8fd2-a88f9cb7a5ce",
   "metadata": {},
   "source": [
    "## Do backward pass from variable J"
   ]
  },
  {
   "cell_type": "code",
   "execution_count": 8,
   "id": "2af8eea1-a9fa-4c01-80be-4109d4ee9ac8",
   "metadata": {},
   "outputs": [],
   "source": [
    "dJ.J.backward()"
   ]
  },
  {
   "cell_type": "markdown",
   "id": "b82da9ea-5e4e-4c61-958d-b1d22ad0e26c",
   "metadata": {},
   "source": [
    "Typically we are only interested in $\\frac{\\partial J}{\\partial W1}$ and $\\frac{\\partial J}{\\partial W2}$:"
   ]
  },
  {
   "cell_type": "code",
   "execution_count": 9,
   "id": "1c0ded30-09e5-41c4-b1f8-e8680499341d",
   "metadata": {},
   "outputs": [
    {
     "data": {
      "text/plain": [
       "tensor([[ 1.0557, -0.1049, -0.4492],\n",
       "        [ 1.1706, -0.0147, -0.3028],\n",
       "        [ 1.1757,  0.5057, -0.1072],\n",
       "        [-0.3526, -0.2323, -0.1262]])"
      ]
     },
     "execution_count": 9,
     "metadata": {},
     "output_type": "execute_result"
    }
   ],
   "source": [
    "dJ.W1.grad"
   ]
  },
  {
   "cell_type": "code",
   "execution_count": 10,
   "id": "07af513c-d101-47b0-82bc-914da28a43e3",
   "metadata": {},
   "outputs": [
    {
     "data": {
      "text/plain": [
       "tensor([[-1.4173,  1.4417],\n",
       "        [-0.4229,  0.3281],\n",
       "        [-0.8347,  0.8154]])"
      ]
     },
     "execution_count": 10,
     "metadata": {},
     "output_type": "execute_result"
    }
   ],
   "source": [
    "dJ.W2.grad"
   ]
  },
  {
   "cell_type": "markdown",
   "id": "e71550e7-faa9-47f0-8a6d-e65103232519",
   "metadata": {},
   "source": [
    "Since we invoked `retain_grad()` on all the intermediate variables, we can examine the partial of J with respect the intermediate varibles: $\\frac{\\partial J}{\\partial L}$ , $\\frac{\\partial J}{\\partial s}$ , $\\frac{\\partial J}{\\partial o}$ , $\\frac{\\partial J}{\\partial h}$, and $\\frac{\\partial J}{\\partial z}$"
   ]
  },
  {
   "cell_type": "markdown",
   "id": "7ce56831-67bb-4cc7-87d8-1fff99b1d162",
   "metadata": {},
   "source": [
    "According to Equations 5.3.8 of Zhang et al, $\\frac{\\partial J}{\\partial L} = 1$ and $\\frac{\\partial J}{\\partial s} = 1$.\n",
    "\n",
    "Let's check."
   ]
  },
  {
   "cell_type": "code",
   "execution_count": 11,
   "id": "89bcdfff-887f-44fa-bc2a-2b48d3fe98cc",
   "metadata": {},
   "outputs": [
    {
     "data": {
      "text/plain": [
       "tensor(1.)"
      ]
     },
     "execution_count": 11,
     "metadata": {},
     "output_type": "execute_result"
    }
   ],
   "source": [
    "dJ.L.grad"
   ]
  },
  {
   "cell_type": "code",
   "execution_count": 12,
   "id": "7ec0e2ee-a20b-4243-af2a-cc2a1217facd",
   "metadata": {},
   "outputs": [
    {
     "data": {
      "text/plain": [
       "tensor(1.)"
      ]
     },
     "execution_count": 12,
     "metadata": {},
     "output_type": "execute_result"
    }
   ],
   "source": [
    "dJ.s.grad"
   ]
  },
  {
   "cell_type": "markdown",
   "id": "d39f9166-9ada-4664-b258-75179819821e",
   "metadata": {},
   "source": [
    "We can check the other intermediate varialbles as well:"
   ]
  },
  {
   "cell_type": "code",
   "execution_count": 13,
   "id": "795440c2-f813-4215-9f5b-20d10abe68a6",
   "metadata": {},
   "outputs": [
    {
     "data": {
      "text/plain": [
       "tensor([[-0.1994,  0.1994],\n",
       "        [ 0.0363, -0.0363],\n",
       "        [ 0.0061, -0.0061],\n",
       "        [-0.1999,  0.1999],\n",
       "        [-0.1994,  0.1994]])"
      ]
     },
     "execution_count": 13,
     "metadata": {},
     "output_type": "execute_result"
    }
   ],
   "source": [
    "dJ.o.grad"
   ]
  },
  {
   "cell_type": "code",
   "execution_count": 14,
   "id": "f8c6f5f8-2877-49d9-94f7-975e5c3b5e9c",
   "metadata": {},
   "outputs": [
    {
     "data": {
      "text/plain": [
       "tensor([[ 0.3903,  0.2381,  0.1874],\n",
       "        [-0.0710, -0.0433, -0.0341],\n",
       "        [-0.0119, -0.0073, -0.0057],\n",
       "        [ 0.3912,  0.2386,  0.1878],\n",
       "        [ 0.3902,  0.2380,  0.1873]])"
      ]
     },
     "execution_count": 14,
     "metadata": {},
     "output_type": "execute_result"
    }
   ],
   "source": [
    "dJ.h.grad"
   ]
  },
  {
   "cell_type": "code",
   "execution_count": 15,
   "id": "9464f1f6-22e1-40cd-a1f0-496dd98f1c2c",
   "metadata": {},
   "outputs": [
    {
     "data": {
      "text/plain": [
       "tensor([[ 0.0000,  0.2381,  0.1874],\n",
       "        [ 0.0000, -0.0433, -0.0341],\n",
       "        [-0.0119, -0.0073,  0.0000],\n",
       "        [ 0.3912,  0.0000,  0.0000],\n",
       "        [ 0.3902,  0.2380,  0.0000]])"
      ]
     },
     "execution_count": 15,
     "metadata": {},
     "output_type": "execute_result"
    }
   ],
   "source": [
    "dJ.z.grad"
   ]
  },
  {
   "cell_type": "markdown",
   "id": "35c6082f-8771-4838-9175-2d36bdd99ae7",
   "metadata": {},
   "source": [
    "## Verify equation 5.3.9\n",
    "\n",
    "According to equation 5.3.9, $\\frac{\\partial J}{\\partial o} = \\mathrm{prod}\\left( \\frac{\\partial J}{\\partial o}, \\frac{\\partial L}{\\partial o} \\right) = \\frac{\\partial L}{\\partial o}$.\n",
    "\n",
    "Create a new isntance, and run backward from varialbe `L`, instead of variable `J`."
   ]
  },
  {
   "cell_type": "code",
   "execution_count": 16,
   "id": "e49e87ee-139c-46d3-a47b-cc59eafdd6c8",
   "metadata": {},
   "outputs": [
    {
     "data": {
      "text/plain": [
       "tensor(4.6537, grad_fn=<AddBackward0>)"
      ]
     },
     "execution_count": 16,
     "metadata": {},
     "output_type": "execute_result"
    }
   ],
   "source": [
    "dL =  SimpleClassifier(num_inputs, num_hiddens, num_outputs)\n",
    "dL.forward(X)\n",
    "dL.loss(y)"
   ]
  },
  {
   "cell_type": "code",
   "execution_count": 17,
   "id": "a3303fb2-0a3c-4bac-bf39-5976fbf086cf",
   "metadata": {},
   "outputs": [],
   "source": [
    "dL.L.backward()"
   ]
  },
  {
   "cell_type": "code",
   "execution_count": 18,
   "id": "4e3172ce-ce3d-456d-8223-fe683185a639",
   "metadata": {},
   "outputs": [
    {
     "data": {
      "text/plain": [
       "tensor([[True, True],\n",
       "        [True, True],\n",
       "        [True, True],\n",
       "        [True, True],\n",
       "        [True, True]])"
      ]
     },
     "execution_count": 18,
     "metadata": {},
     "output_type": "execute_result"
    }
   ],
   "source": [
    "torch.isclose(dJ.L.grad * dL.o.grad,  dL.o.grad)"
   ]
  },
  {
   "cell_type": "markdown",
   "id": "8ad7ff7d-523e-4f8f-b5ec-70b3668f7d0b",
   "metadata": {},
   "source": [
    "## Verify equations 5.3.10 (TODO)\n",
    "\n",
    "Create a new instance `ds`, and perform forward and backward pass from variable `s`."
   ]
  },
  {
   "cell_type": "code",
   "execution_count": 19,
   "id": "84ef1eb5-3189-42c9-9a0e-6eb760317f89",
   "metadata": {},
   "outputs": [],
   "source": [
    "# Begin - insert your code\n",
    "lambda1 = 0.1\n",
    "ds = SimpleClassifier(num_inputs, num_hiddens, num_outputs, lambda1)\n",
    "ds.forward(X)\n",
    "ds.loss(y)\n",
    "ds.s.backward()\n",
    "# End - insert your code"
   ]
  },
  {
   "cell_type": "markdown",
   "id": "e88f925f-d1c0-47e5-a274-d6e4a305dc0f",
   "metadata": {},
   "source": [
    "Use `torch.isclose` to verify equations in equations 5.3.10"
   ]
  },
  {
   "cell_type": "code",
   "execution_count": 20,
   "id": "491f61aa-f96d-452f-ab98-9f745ea027ef",
   "metadata": {},
   "outputs": [
    {
     "data": {
      "text/plain": [
       "tensor([[True, True, True],\n",
       "        [True, True, True],\n",
       "        [True, True, True],\n",
       "        [True, True, True]])"
      ]
     },
     "execution_count": 20,
     "metadata": {},
     "output_type": "execute_result"
    }
   ],
   "source": [
    "# Begin - insert your code\n",
    "torch.isclose(ds.W1.grad, lambda1 * dJ.W1)\n",
    "# End - insert your code"
   ]
  },
  {
   "cell_type": "code",
   "execution_count": 21,
   "id": "bf3cccb6-c0b6-4442-9828-a8e5fcf4722a",
   "metadata": {},
   "outputs": [
    {
     "data": {
      "text/plain": [
       "tensor([[True, True],\n",
       "        [True, True],\n",
       "        [True, True]])"
      ]
     },
     "execution_count": 21,
     "metadata": {},
     "output_type": "execute_result"
    }
   ],
   "source": [
    "# Begin - insert your code\n",
    "torch.isclose(ds.W2.grad, lambda1 * dJ.W2)\n",
    "# End - insert your code"
   ]
  },
  {
   "cell_type": "markdown",
   "id": "a56a604b-67e8-4fba-ad4d-d1a19f84d893",
   "metadata": {},
   "source": [
    "## Verify the right-hand side of equation 5.3.11 (TODO)\n",
    "\n",
    "Verify the right-hand side of equation 5.3.11, i.e. verify\n",
    "\n",
    "$$ \\frac{\\partial J}{\\partial W2} = h^T\\frac{\\partial J}{\\partial o} + \\lambda W2$$\n"
   ]
  },
  {
   "cell_type": "code",
   "execution_count": 22,
   "id": "c40d1628-02ec-4911-8141-bdff8594337a",
   "metadata": {},
   "outputs": [
    {
     "data": {
      "text/plain": [
       "tensor([[-1.4173,  1.4417],\n",
       "        [-0.4229,  0.3281],\n",
       "        [-0.8347,  0.8154]])"
      ]
     },
     "execution_count": 22,
     "metadata": {},
     "output_type": "execute_result"
    }
   ],
   "source": [
    "dJ.W2.grad"
   ]
  },
  {
   "cell_type": "code",
   "execution_count": 23,
   "id": "fda4c28f-c334-4306-a9d1-92cc03eeeb38",
   "metadata": {},
   "outputs": [],
   "source": [
    "# Begin - insert your code\n",
    "lambda1 = 0.1\n",
    "dJ_dW2 = torch.matmul(dJ.h.T, dJ.o.grad) + lambda1 * dJ.W2\n",
    "# End - insert your code"
   ]
  },
  {
   "cell_type": "code",
   "execution_count": 24,
   "id": "c0efccc6-b68c-4f1e-b4ec-ad666f79c8e9",
   "metadata": {},
   "outputs": [
    {
     "data": {
      "text/plain": [
       "tensor([[True, True],\n",
       "        [True, True],\n",
       "        [True, True]])"
      ]
     },
     "execution_count": 24,
     "metadata": {},
     "output_type": "execute_result"
    }
   ],
   "source": [
    "torch.isclose(dJ.W2.grad, dJ_dW2)"
   ]
  },
  {
   "cell_type": "markdown",
   "id": "83b18c1b-c65b-4151-bd4d-0fc9489231b8",
   "metadata": {},
   "source": [
    "## Verify the middle part of equation 5.3.11 (TODO)\n",
    "\n",
    "Verify\n",
    "\n",
    "\n",
    "$$ \\frac{\\partial J}{\\partial W2} = \\mathrm{prod}\\left(\\frac{\\partial J}{\\partial o}, \\frac{\\partial o}{\\partial W2}\\right) + \n",
    "\\mathrm{prod}\\left(\\frac{\\partial J}{\\partial s}, \\frac{\\partial s}{\\partial W2}\\right)$$\n"
   ]
  },
  {
   "cell_type": "markdown",
   "id": "7b43d0c7-d026-4ae6-b2d5-2fe090e2d822",
   "metadata": {},
   "source": [
    "The sum of the two terms on the right-hand side should be `dJ.W2.grad`."
   ]
  },
  {
   "cell_type": "code",
   "execution_count": 25,
   "id": "c657c7f9-3a94-4406-8c2c-3d26d0930a42",
   "metadata": {},
   "outputs": [
    {
     "data": {
      "text/plain": [
       "tensor([[-1.4173,  1.4417],\n",
       "        [-0.4229,  0.3281],\n",
       "        [-0.8347,  0.8154]])"
      ]
     },
     "execution_count": 25,
     "metadata": {},
     "output_type": "execute_result"
    }
   ],
   "source": [
    "dJ.W2.grad"
   ]
  },
  {
   "cell_type": "markdown",
   "id": "4b800a20-416e-4662-af18-b77acf9338d1",
   "metadata": {},
   "source": [
    "Let's focus on the second term $\\mathrm{prod}\\left(\\frac{\\partial J}{\\partial s}, \\frac{\\partial s}{\\partial W2}\\right)$.\n",
    "\n",
    "Create a new instance `ds` and compute forward and loss."
   ]
  },
  {
   "cell_type": "code",
   "execution_count": 26,
   "id": "295baa29-f542-4ac9-b51e-bcfad633ca39",
   "metadata": {},
   "outputs": [
    {
     "data": {
      "text/plain": [
       "tensor(4.6537, grad_fn=<AddBackward0>)"
      ]
     },
     "execution_count": 26,
     "metadata": {},
     "output_type": "execute_result"
    }
   ],
   "source": [
    "ds =  SimpleClassifier(num_inputs, num_hiddens, num_outputs)\n",
    "ds.forward(X)\n",
    "ds.loss(y)"
   ]
  },
  {
   "cell_type": "markdown",
   "id": "3b3200e6-cfd1-4706-9654-43934629c04f",
   "metadata": {},
   "source": [
    "Run backward from variable `s`."
   ]
  },
  {
   "cell_type": "code",
   "execution_count": 27,
   "id": "27f1adc7-a911-41d7-8535-d5f5bec01b4f",
   "metadata": {},
   "outputs": [],
   "source": [
    "ds.s.backward()"
   ]
  },
  {
   "cell_type": "markdown",
   "id": "45f0b423-f538-4cac-9f8e-ee994b0fff94",
   "metadata": {},
   "source": [
    "Compute  $\\mathrm{prod}\\left(\\frac{\\partial J}{\\partial s}, \\frac{\\partial s}{\\partial W2}\\right)$."
   ]
  },
  {
   "cell_type": "code",
   "execution_count": 28,
   "id": "e62ef6a9-b66d-409d-971a-345f025435b2",
   "metadata": {},
   "outputs": [],
   "source": [
    "# Begin - insert your code\n",
    "term2 = dJ.s.grad * ds.W2.grad\n",
    "# End - insert your code"
   ]
  },
  {
   "cell_type": "markdown",
   "id": "1b43bf41-d359-49da-9cb4-a98a4bedcfbe",
   "metadata": {},
   "source": [
    "Now focus on the first term of the equation, $\\mathrm{prod}\\left(\\frac{\\partial J}{\\partial o}, \\frac{\\partial o}{\\partial W2}\\right)$, by creating a new instance `do` and computing forward and loss."
   ]
  },
  {
   "cell_type": "code",
   "execution_count": 29,
   "id": "3b0fc7f9-4253-4582-bdcd-dcef6a6d08b9",
   "metadata": {},
   "outputs": [
    {
     "data": {
      "text/plain": [
       "tensor(4.6537, grad_fn=<AddBackward0>)"
      ]
     },
     "execution_count": 29,
     "metadata": {},
     "output_type": "execute_result"
    }
   ],
   "source": [
    "do =  SimpleClassifier(num_inputs, num_hiddens, num_outputs)\n",
    "do.forward(X)\n",
    "do.loss(y)"
   ]
  },
  {
   "cell_type": "code",
   "execution_count": 30,
   "id": "adbf7fb2-13c0-4b92-918e-cc7c92d5abf3",
   "metadata": {},
   "outputs": [
    {
     "data": {
      "text/plain": [
       "(torch.Size([5, 2]), torch.Size([3, 2]))"
      ]
     },
     "execution_count": 30,
     "metadata": {},
     "output_type": "execute_result"
    }
   ],
   "source": [
    "dJ.o.shape, dJ.W2.shape"
   ]
  },
  {
   "cell_type": "markdown",
   "id": "7900ade5-e9cc-4fd4-9638-1b6f13abe05a",
   "metadata": {},
   "source": [
    "**Notice:** $W2$ is a second-order tensors and $o$ is a vector (if minibatch size is 1). The matrix derivative\n",
    "$$\\frac{\\partial o}{\\partial W2}$$\n",
    "would be a third-order tensor. \n",
    "\n",
    "PyTorch autograd does not explicitly return third-order matrix derivates. This is because with deep learning we almost always immediately perfrom a multiplication with these intermediated matrix derivates. In this case, we compute \n",
    "$\\mathrm{prod}\\left(\\frac{\\partial J}{\\partial o}, \\frac{\\partial o}{\\partial W2}\\right)$.\n",
    "\n",
    "Read the following links to understand the $gradient$ parameter the $backward$ method.\n",
    "\n",
    "* [Optional Reading - Vector Calculus using autograd](https://pytorch.org/tutorials/beginner/blitz/autograd_tutorial.html#optional-reading-vector-calculus-using-autograd)\n",
    "* [torch.Tensor.backward](https://pytorch.org/docs/stable/generated/torch.Tensor.backward.html)\n",
    "* [The “gradient” argument in Pytorch’s “backward” function — explained by examples](https://zhang-yang.medium.com/the-gradient-argument-in-pytorchs-backward-function-explained-by-examples-68f266950c29)"
   ]
  },
  {
   "cell_type": "markdown",
   "id": "38ea0f89-c1d2-40c8-a65e-89794e9a0956",
   "metadata": {},
   "source": [
    "Call the `backward` method of of variable `do.o` with the appropriate `gradient` argument."
   ]
  },
  {
   "cell_type": "code",
   "execution_count": 31,
   "id": "2498c5f8-5394-49fb-be68-c39f40d92338",
   "metadata": {},
   "outputs": [],
   "source": [
    "# Begin - insert your code\n",
    "do.o.backward(gradient=dJ.o.grad)\n",
    "# End - insert your code"
   ]
  },
  {
   "cell_type": "code",
   "execution_count": 32,
   "id": "13409791-81fd-48b0-a2ef-192a29b0fc95",
   "metadata": {},
   "outputs": [],
   "source": [
    "# Begin - insert your code\n",
    "term1 = do.W2.grad\n",
    "# End - insert your code"
   ]
  },
  {
   "cell_type": "code",
   "execution_count": 33,
   "id": "1d6ce17c-a797-48dd-802b-c51d3e0bfbbb",
   "metadata": {},
   "outputs": [
    {
     "data": {
      "text/plain": [
       "tensor([[True, True],\n",
       "        [True, True],\n",
       "        [True, True]])"
      ]
     },
     "execution_count": 33,
     "metadata": {},
     "output_type": "execute_result"
    }
   ],
   "source": [
    "torch.isclose(dJ.W2.grad, term1 + term2)"
   ]
  },
  {
   "cell_type": "markdown",
   "id": "cb0f7b3c-8e65-470f-a8ce-e145ebe9f753",
   "metadata": {},
   "source": [
    "## Verify the right-hand side of Equation 5.3.12  (TODO)\n",
    "\n",
    "Verify\n",
    "\n",
    "$$ \\frac{\\partial J}{\\partial h} = \\frac{\\partial J}{\\partial o} W2^T$$\n"
   ]
  },
  {
   "cell_type": "code",
   "execution_count": 34,
   "id": "77ceacc6-6134-4605-9364-f79a07a7acad",
   "metadata": {},
   "outputs": [],
   "source": [
    "# Begin - insert your code\n",
    "prod = torch.matmul(dJ.o.grad, dJ.W2.T)\n",
    "# End - insert your code"
   ]
  },
  {
   "cell_type": "code",
   "execution_count": 35,
   "id": "50ba6a85-d1be-49b6-b38f-6a30c25004bc",
   "metadata": {},
   "outputs": [
    {
     "data": {
      "text/plain": [
       "tensor([[True, True, True],\n",
       "        [True, True, True],\n",
       "        [True, True, True],\n",
       "        [True, True, True],\n",
       "        [True, True, True]])"
      ]
     },
     "execution_count": 35,
     "metadata": {},
     "output_type": "execute_result"
    }
   ],
   "source": [
    "torch.isclose(dJ.h.grad, prod)"
   ]
  },
  {
   "cell_type": "markdown",
   "id": "6dfd0e94-d890-4b83-b053-094f176722df",
   "metadata": {},
   "source": [
    "## Verify the middle part of Equation 5.3.12 (TODO)\n",
    "\n",
    "Verify\n",
    "\n",
    "$$ \\frac{\\partial J}{\\partial h} = \\mathrm{prod}\\left(\\frac{\\partial J}{\\partial o}, \\frac{\\partial o}{\\partial h}\\right) $$\n"
   ]
  },
  {
   "cell_type": "code",
   "execution_count": 36,
   "id": "7cbfc57f-0296-4b79-a576-cd8ee8b9e52f",
   "metadata": {},
   "outputs": [
    {
     "data": {
      "text/plain": [
       "tensor([[True, True, True],\n",
       "        [True, True, True],\n",
       "        [True, True, True],\n",
       "        [True, True, True],\n",
       "        [True, True, True]])"
      ]
     },
     "execution_count": 36,
     "metadata": {},
     "output_type": "execute_result"
    }
   ],
   "source": [
    "# Begin - insert your code\n",
    "# do.h.grad = dJ/do * do/dh\n",
    "torch.isclose(dJ.h.grad, do.h.grad)\n",
    "# End - insert your code"
   ]
  },
  {
   "cell_type": "markdown",
   "id": "8eeeb261-598b-49dd-9f52-d7191920ba09",
   "metadata": {},
   "source": [
    "## Verify the middle part of Equation 5.3.13 (TODO)\n",
    "\n",
    "Verify\n",
    "\n",
    "$$ \\frac{\\partial J}{\\partial z} = \\mathrm{prod}\\left(\\frac{\\partial J}{\\partial h}, \\frac{\\partial h}{\\partial z}\\right) $$\n"
   ]
  },
  {
   "cell_type": "code",
   "execution_count": 37,
   "id": "af593393-4edb-4184-b093-c4a26517b875",
   "metadata": {},
   "outputs": [
    {
     "data": {
      "text/plain": [
       "tensor(4.6537, grad_fn=<AddBackward0>)"
      ]
     },
     "execution_count": 37,
     "metadata": {},
     "output_type": "execute_result"
    }
   ],
   "source": [
    "dh = SimpleClassifier(num_inputs, num_hiddens, num_outputs)\n",
    "dh.forward(X)\n",
    "dh.loss(y)"
   ]
  },
  {
   "cell_type": "markdown",
   "id": "e990bf4b-c62e-443d-adad-f218874ffa88",
   "metadata": {},
   "source": [
    "Call the `backward` method of `dh.h` with the appropriate `gradient` argument."
   ]
  },
  {
   "cell_type": "code",
   "execution_count": 38,
   "id": "6a9cf3c7-f032-46e2-946b-b8b7ced6c718",
   "metadata": {},
   "outputs": [],
   "source": [
    "# Begin - insert your code\n",
    "dh.h.backward(dJ.h.grad)\n",
    "# End - insert your code"
   ]
  },
  {
   "cell_type": "markdown",
   "id": "d19066ca-e1cc-46e4-8f51-adc948342271",
   "metadata": {},
   "source": [
    "Verify by using the `torch.iscloss` function."
   ]
  },
  {
   "cell_type": "code",
   "execution_count": 39,
   "id": "c0dc993f-8f8c-4267-ace1-62c0f0566f90",
   "metadata": {},
   "outputs": [
    {
     "data": {
      "text/plain": [
       "tensor([[True, True, True],\n",
       "        [True, True, True],\n",
       "        [True, True, True],\n",
       "        [True, True, True],\n",
       "        [True, True, True]])"
      ]
     },
     "execution_count": 39,
     "metadata": {},
     "output_type": "execute_result"
    }
   ],
   "source": [
    "# Begin - insert your code\n",
    "# dh.z.grad = dJ/dh * dh/dz\n",
    "torch.isclose(dJ.z.grad, dh.z.grad)\n",
    "# End - insert your code"
   ]
  },
  {
   "cell_type": "markdown",
   "id": "1d525837-c03e-42f4-8a21-7c74633ca503",
   "metadata": {},
   "source": [
    "## Verify the middle part of Equation 5.3.14 (TODO)\n",
    "\n",
    "Verify\n",
    "\n",
    "\n",
    "$$ \\frac{\\partial J}{\\partial W1} = \\mathrm{prod}\\left(\\frac{\\partial J}{\\partial z}, \\frac{\\partial z}{\\partial W1}\\right) + \n",
    "\\mathrm{prod}\\left(\\frac{\\partial J}{\\partial s}, \\frac{\\partial s}{\\partial W1}\\right)$$\n",
    "\n"
   ]
  },
  {
   "cell_type": "code",
   "execution_count": 40,
   "id": "c92698f5-61ef-4be0-9574-b865d186bc76",
   "metadata": {},
   "outputs": [
    {
     "data": {
      "text/plain": [
       "tensor(4.6537, grad_fn=<AddBackward0>)"
      ]
     },
     "execution_count": 40,
     "metadata": {},
     "output_type": "execute_result"
    }
   ],
   "source": [
    "dz= SimpleClassifier(num_inputs, num_hiddens, num_outputs)\n",
    "dz.forward(X)\n",
    "dz.loss(y)"
   ]
  },
  {
   "cell_type": "markdown",
   "id": "f9b105b5-df51-400b-87db-72eaad2f3959",
   "metadata": {},
   "source": [
    "Call the `backward` method of `dz.z` with the appropriate `gradient` argument."
   ]
  },
  {
   "cell_type": "code",
   "execution_count": 41,
   "id": "f3e67f18-3ed7-4dcb-85bf-30a7d1752e9a",
   "metadata": {},
   "outputs": [],
   "source": [
    "# Begin - insert your code\n",
    "# dh.h.backward\n",
    "dz.z.backward(gradient=dJ.z.grad)\n",
    "# End - insert your code"
   ]
  },
  {
   "cell_type": "markdown",
   "id": "58b41433-e979-4afa-9f76-04c2c050de71",
   "metadata": {},
   "source": [
    "Verify by using the `torch.isclose` function."
   ]
  },
  {
   "cell_type": "code",
   "execution_count": 42,
   "id": "968047c7-9836-42bc-bd35-9d3c4a462cbd",
   "metadata": {},
   "outputs": [
    {
     "data": {
      "text/plain": [
       "tensor([[True, True, True],\n",
       "        [True, True, True],\n",
       "        [True, True, True],\n",
       "        [True, True, True]])"
      ]
     },
     "execution_count": 42,
     "metadata": {},
     "output_type": "execute_result"
    }
   ],
   "source": [
    "# Begin - insert your code\n",
    "# dz.W1.grad = dJ/dz * dz/dW1\n",
    "torch.isclose(dJ.W1.grad, dz.W1.grad + dJ.s.grad * ds.W1.grad)\n",
    "# End - insert your code"
   ]
  }
 ],
 "metadata": {
  "kernelspec": {
   "display_name": "Python 3 (ipykernel)",
   "language": "python",
   "name": "python3"
  },
  "language_info": {
   "codemirror_mode": {
    "name": "ipython",
    "version": 3
   },
   "file_extension": ".py",
   "mimetype": "text/x-python",
   "name": "python",
   "nbconvert_exporter": "python",
   "pygments_lexer": "ipython3",
   "version": "3.12.12"
  }
 },
 "nbformat": 4,
 "nbformat_minor": 5
}
